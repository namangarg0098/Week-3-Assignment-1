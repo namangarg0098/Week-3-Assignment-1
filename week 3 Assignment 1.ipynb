{
 "cells": [
  {
   "cell_type": "markdown",
   "id": "c57c5a82-ba4e-4c2e-bce5-16d11337a3dd",
   "metadata": {},
   "source": [
    "Q1 - Which keyword is used to create a function? Create a function to return a list of odd numbers in the range of 1 to 25 "
   ]
  },
  {
   "cell_type": "code",
   "execution_count": null,
   "id": "50b23602-02d6-40c9-8432-4a54eb94963e",
   "metadata": {},
   "outputs": [],
   "source": [
    "# def keyword is generally used to create function in python"
   ]
  },
  {
   "cell_type": "code",
   "execution_count": 1,
   "id": "9ad451f5-7c30-4576-a43b-d10c5c4ce2b4",
   "metadata": {},
   "outputs": [
    {
     "data": {
      "text/plain": [
       "range(0, 25)"
      ]
     },
     "execution_count": 1,
     "metadata": {},
     "output_type": "execute_result"
    }
   ],
   "source": [
    "range(25)"
   ]
  },
  {
   "cell_type": "code",
   "execution_count": 6,
   "id": "af08bdd3-d4b9-410c-8054-d646a98109ac",
   "metadata": {},
   "outputs": [],
   "source": [
    "l = list(range(1,26))"
   ]
  },
  {
   "cell_type": "code",
   "execution_count": 35,
   "id": "f2356dd8-8094-438e-ab53-2a6b521fb1b6",
   "metadata": {},
   "outputs": [],
   "source": [
    "l1 = []\n",
    "for i in l:\n",
    "    if i % 2 != 0:\n",
    "        l1.append(i)"
   ]
  },
  {
   "cell_type": "code",
   "execution_count": 36,
   "id": "f933489e-f006-4723-abe2-37da1889946d",
   "metadata": {},
   "outputs": [
    {
     "data": {
      "text/plain": [
       "[1, 3, 5, 7, 9, 11, 13, 15, 17, 19, 21, 23, 25]"
      ]
     },
     "execution_count": 36,
     "metadata": {},
     "output_type": "execute_result"
    }
   ],
   "source": [
    "l1"
   ]
  },
  {
   "cell_type": "code",
   "execution_count": 34,
   "id": "1750d76b-2c0d-4047-99ec-8c9193970488",
   "metadata": {},
   "outputs": [
    {
     "data": {
      "text/plain": [
       "[1, 3, 5, 7, 9, 11, 13, 15, 17, 19, 21, 23, 25]"
      ]
     },
     "execution_count": 34,
     "metadata": {},
     "output_type": "execute_result"
    }
   ],
   "source": [
    "list(filter(lambda x : x % 2 != 0, l))"
   ]
  },
  {
   "cell_type": "code",
   "execution_count": 37,
   "id": "fdcbd21c-94a4-447a-886c-beac9a57ebf0",
   "metadata": {},
   "outputs": [],
   "source": [
    "def odd():\n",
    "    l1 = []\n",
    "    for i in l:\n",
    "        if i % 2 != 0:\n",
    "            l1.append(i)\n",
    "    return l1"
   ]
  },
  {
   "cell_type": "code",
   "execution_count": 38,
   "id": "701dfe5e-9186-4f26-bb36-61a52661de0f",
   "metadata": {},
   "outputs": [
    {
     "data": {
      "text/plain": [
       "[1, 3, 5, 7, 9, 11, 13, 15, 17, 19, 21, 23, 25]"
      ]
     },
     "execution_count": 38,
     "metadata": {},
     "output_type": "execute_result"
    }
   ],
   "source": [
    "l1"
   ]
  },
  {
   "cell_type": "code",
   "execution_count": 39,
   "id": "b4860cd7-b60a-4b92-9afd-18f611f92d9e",
   "metadata": {},
   "outputs": [
    {
     "data": {
      "text/plain": [
       "[1, 3, 5, 7, 9, 11, 13, 15, 17, 19, 21, 23, 25]"
      ]
     },
     "execution_count": 39,
     "metadata": {},
     "output_type": "execute_result"
    }
   ],
   "source": [
    "odd()"
   ]
  },
  {
   "cell_type": "markdown",
   "id": "f50c2fba-362f-4c36-9c6d-942e959e9cdf",
   "metadata": {},
   "source": [
    "Q2 - Why *args and **kwargs is used in some functions ? Create a function each for *args and **kwargs to demonstrate their use."
   ]
  },
  {
   "cell_type": "code",
   "execution_count": 40,
   "id": "b9e85a99-26a8-491f-8943-db661c485c02",
   "metadata": {},
   "outputs": [],
   "source": [
    "# You can use *args and **kwargs as arguments of a function when you are unsure about the number of arguments to pass in the functions."
   ]
  },
  {
   "cell_type": "code",
   "execution_count": 44,
   "id": "9e8b537f-685f-4d8d-8f24-a283d1b49f26",
   "metadata": {},
   "outputs": [],
   "source": [
    "def some(*args): # -> we can use any word against args \n",
    "    return args"
   ]
  },
  {
   "cell_type": "code",
   "execution_count": 43,
   "id": "fe4767ce-40b4-45a0-9417-4e5468732d6c",
   "metadata": {},
   "outputs": [
    {
     "data": {
      "text/plain": [
       "(86, [66, 54, 63, 22], 96.43, 225, 'naman')"
      ]
     },
     "execution_count": 43,
     "metadata": {},
     "output_type": "execute_result"
    }
   ],
   "source": [
    "some(43+43, [66,54,63,22], 96.43, 45*5, 'naman')"
   ]
  },
  {
   "cell_type": "code",
   "execution_count": 46,
   "id": "78081304-a4c3-40f5-93c0-cf43b49298b4",
   "metadata": {},
   "outputs": [],
   "source": [
    "def mult(*garg, a):\n",
    "    return garg, a"
   ]
  },
  {
   "cell_type": "code",
   "execution_count": 47,
   "id": "59ecd5ca-88e2-4d99-a03a-c5c2383ce2d8",
   "metadata": {},
   "outputs": [
    {
     "data": {
      "text/plain": [
       "((45, 44, ['pw', 'sudh', 'krish', 100, 99.99, 99.98]), 'Naman')"
      ]
     },
     "execution_count": 47,
     "metadata": {},
     "output_type": "execute_result"
    }
   ],
   "source": [
    "mult(45,44,['pw','sudh','krish',100,99.99,99.98], a = 'Naman')"
   ]
  },
  {
   "cell_type": "code",
   "execution_count": null,
   "id": "75ebd4d0-2126-40b1-80ac-4a08ad24fdff",
   "metadata": {},
   "outputs": [],
   "source": []
  },
  {
   "cell_type": "code",
   "execution_count": 48,
   "id": "6abab080-6316-4007-9b25-0f9e21dfcf79",
   "metadata": {},
   "outputs": [],
   "source": [
    "def new(**kwargs):\n",
    "    return kwargs"
   ]
  },
  {
   "cell_type": "code",
   "execution_count": 50,
   "id": "9540be77-4db3-4293-ad1b-b9901f03d49d",
   "metadata": {},
   "outputs": [
    {
     "data": {
      "text/plain": [
       "{}"
      ]
     },
     "execution_count": 50,
     "metadata": {},
     "output_type": "execute_result"
    }
   ],
   "source": [
    "new()"
   ]
  },
  {
   "cell_type": "code",
   "execution_count": 51,
   "id": "af920240-8c90-4287-9905-d03e794cd0c7",
   "metadata": {},
   "outputs": [
    {
     "data": {
      "text/plain": [
       "dict"
      ]
     },
     "execution_count": 51,
     "metadata": {},
     "output_type": "execute_result"
    }
   ],
   "source": [
    "type(new())"
   ]
  },
  {
   "cell_type": "code",
   "execution_count": 54,
   "id": "d6c65bdb-03eb-4f63-b8bf-a0fa337b8a5c",
   "metadata": {},
   "outputs": [],
   "source": [
    "def king(**take):\n",
    "    return take"
   ]
  },
  {
   "cell_type": "code",
   "execution_count": 56,
   "id": "91c6dfc2-4ac6-43c3-bbbd-f6a4ca7e9906",
   "metadata": {},
   "outputs": [
    {
     "data": {
      "text/plain": [
       "{}"
      ]
     },
     "execution_count": 56,
     "metadata": {},
     "output_type": "execute_result"
    }
   ],
   "source": [
    "king()"
   ]
  },
  {
   "cell_type": "code",
   "execution_count": 57,
   "id": "caeb98dc-942e-42d2-a110-6b290cf549ad",
   "metadata": {},
   "outputs": [
    {
     "data": {
      "text/plain": [
       "{'name': 'naman', 'a': [2, 3, 4, 'geg'], 'bang': 5}"
      ]
     },
     "execution_count": 57,
     "metadata": {},
     "output_type": "execute_result"
    }
   ],
   "source": [
    "new(name = 'naman', a = [2,3,4,'geg'], bang = 5)"
   ]
  },
  {
   "cell_type": "code",
   "execution_count": 59,
   "id": "2f42d56f-a447-47c7-8959-cec583a4b0f1",
   "metadata": {},
   "outputs": [
    {
     "data": {
      "text/plain": [
       "{'a': ['pw', 'sudh', 'krish', 'naman', 100],\n",
       " 'bold': 'style',\n",
       " 'college': 'waste of money'}"
      ]
     },
     "execution_count": 59,
     "metadata": {},
     "output_type": "execute_result"
    }
   ],
   "source": [
    "king(a = ['pw', 'sudh', 'krish', 'naman', 100], bold = 'style', college = 'waste of money')"
   ]
  },
  {
   "cell_type": "markdown",
   "id": "0acdba71-102b-4c7f-ac72-30b65b3a036f",
   "metadata": {},
   "source": [
    "Q3 - What is an iterator in python? Name the method used to initialise the iterator object and the method used for iteration. Use these methods to print \n",
    "the first five element of the given list [2,4,6,8,10,12,14,16,18,20]."
   ]
  },
  {
   "cell_type": "code",
   "execution_count": 60,
   "id": "7c226e77-f7bc-47cc-acda-351bdab555fe",
   "metadata": {},
   "outputs": [],
   "source": [
    "# Iterators are objects that allow us to traverse through all the elements of a collection and return one element at a time."
   ]
  },
  {
   "cell_type": "code",
   "execution_count": 61,
   "id": "0a77a422-8b76-4e6b-bc51-5241d6c4e7bd",
   "metadata": {},
   "outputs": [],
   "source": [
    "# iter() method is used to initialise the iterator object  \n",
    "# next() method is used for iteration. The next method returns the next value of the iterable "
   ]
  },
  {
   "cell_type": "code",
   "execution_count": 62,
   "id": "7a7f65b7-d638-4e25-b36c-2594ca6520cf",
   "metadata": {},
   "outputs": [],
   "source": [
    "l = [2,4,6,8,10,12,14,16,18,20]"
   ]
  },
  {
   "cell_type": "code",
   "execution_count": 64,
   "id": "9c0f3773-a09b-4b3f-b142-15f6f6f742d8",
   "metadata": {},
   "outputs": [
    {
     "data": {
      "text/plain": [
       "[2, 4, 6, 8, 10, 12, 14, 16, 18, 20]"
      ]
     },
     "execution_count": 64,
     "metadata": {},
     "output_type": "execute_result"
    }
   ],
   "source": [
    "list(iter(l))"
   ]
  },
  {
   "cell_type": "code",
   "execution_count": 66,
   "id": "62867925-8222-4c2b-a695-3380e52b0dbd",
   "metadata": {},
   "outputs": [],
   "source": [
    "l1 = iter(l)"
   ]
  },
  {
   "cell_type": "code",
   "execution_count": 67,
   "id": "2ef7cf5e-49b5-44d4-8496-8854e00ce389",
   "metadata": {},
   "outputs": [
    {
     "data": {
      "text/plain": [
       "2"
      ]
     },
     "execution_count": 67,
     "metadata": {},
     "output_type": "execute_result"
    }
   ],
   "source": [
    "next(l1)"
   ]
  },
  {
   "cell_type": "code",
   "execution_count": 68,
   "id": "cad0fd23-e567-4db5-a056-e2ab2a4bcffe",
   "metadata": {},
   "outputs": [
    {
     "data": {
      "text/plain": [
       "4"
      ]
     },
     "execution_count": 68,
     "metadata": {},
     "output_type": "execute_result"
    }
   ],
   "source": [
    "next(l1)"
   ]
  },
  {
   "cell_type": "code",
   "execution_count": 69,
   "id": "c26df7ec-df41-4b32-adf1-24fb48c24f30",
   "metadata": {},
   "outputs": [
    {
     "data": {
      "text/plain": [
       "6"
      ]
     },
     "execution_count": 69,
     "metadata": {},
     "output_type": "execute_result"
    }
   ],
   "source": [
    "next(l1)"
   ]
  },
  {
   "cell_type": "code",
   "execution_count": 70,
   "id": "14bcdf0a-a407-4174-a62a-7a3442a22e9b",
   "metadata": {},
   "outputs": [
    {
     "data": {
      "text/plain": [
       "8"
      ]
     },
     "execution_count": 70,
     "metadata": {},
     "output_type": "execute_result"
    }
   ],
   "source": [
    "next(l1)"
   ]
  },
  {
   "cell_type": "code",
   "execution_count": 71,
   "id": "b47b961e-204a-4ae6-a434-4068bdf4d187",
   "metadata": {},
   "outputs": [
    {
     "data": {
      "text/plain": [
       "10"
      ]
     },
     "execution_count": 71,
     "metadata": {},
     "output_type": "execute_result"
    }
   ],
   "source": [
    "next(l1)"
   ]
  },
  {
   "cell_type": "markdown",
   "id": "4de3ecd3-93e4-4a70-beb7-d76d09b91843",
   "metadata": {},
   "source": [
    "Q4 - Create a generator function in python? Why yield keyword is used? Give an example of a generator function."
   ]
  },
  {
   "cell_type": "code",
   "execution_count": 73,
   "id": "54ce2816-cc8a-45a8-878b-134499343329",
   "metadata": {},
   "outputs": [],
   "source": [
    "# In Python, a generator is a function that returns an iterator that produces a sequence of values when iterated over\n",
    "# The yield keyword will turn any expression that is given with it into a generator object and return it to the caller"
   ]
  },
  {
   "cell_type": "code",
   "execution_count": 83,
   "id": "5eb2eb04-5b5e-42eb-8d59-44ddaf5d82b3",
   "metadata": {},
   "outputs": [],
   "source": [
    "def my_generator():\n",
    "    for i in range(3):\n",
    "        yield i "
   ]
  },
  {
   "cell_type": "code",
   "execution_count": 75,
   "id": "b254f95f-7a97-4e45-8505-944b24d815b4",
   "metadata": {},
   "outputs": [],
   "source": [
    "gen = my_generator()"
   ]
  },
  {
   "cell_type": "code",
   "execution_count": 76,
   "id": "b4a17fa9-d979-4574-b154-44333c6aad42",
   "metadata": {},
   "outputs": [
    {
     "name": "stdout",
     "output_type": "stream",
     "text": [
      "0\n"
     ]
    }
   ],
   "source": [
    "print(next(gen))"
   ]
  },
  {
   "cell_type": "code",
   "execution_count": 77,
   "id": "1a637410-4805-42f8-99b5-a40a244a4f18",
   "metadata": {},
   "outputs": [
    {
     "name": "stdout",
     "output_type": "stream",
     "text": [
      "1\n"
     ]
    }
   ],
   "source": [
    "print(next(gen))"
   ]
  },
  {
   "cell_type": "code",
   "execution_count": 78,
   "id": "38f1040d-c7b8-4c41-8a7d-c217330516d6",
   "metadata": {},
   "outputs": [
    {
     "name": "stdout",
     "output_type": "stream",
     "text": [
      "2\n"
     ]
    }
   ],
   "source": [
    "print(next(gen))"
   ]
  },
  {
   "cell_type": "code",
   "execution_count": 82,
   "id": "55b7d07a-cf2d-420e-a88b-27ffc08ae68f",
   "metadata": {},
   "outputs": [
    {
     "ename": "StopIteration",
     "evalue": "",
     "output_type": "error",
     "traceback": [
      "\u001b[0;31m---------------------------------------------------------------------------\u001b[0m",
      "\u001b[0;31mStopIteration\u001b[0m                             Traceback (most recent call last)",
      "Cell \u001b[0;32mIn[82], line 1\u001b[0m\n\u001b[0;32m----> 1\u001b[0m \u001b[38;5;28mprint\u001b[39m(\u001b[38;5;28;43mnext\u001b[39;49m\u001b[43m(\u001b[49m\u001b[43mgen\u001b[49m\u001b[43m)\u001b[49m)\n",
      "\u001b[0;31mStopIteration\u001b[0m: "
     ]
    }
   ],
   "source": [
    "print(next(gen))"
   ]
  },
  {
   "cell_type": "markdown",
   "id": "c4be9b31-cdfa-4e02-b18f-5d15bbb960f7",
   "metadata": {},
   "source": [
    "Q5 - Create a generator function for prime numbers less than 1000. Use the next() method to print the first 20 prime numbers."
   ]
  },
  {
   "cell_type": "code",
   "execution_count": 30,
   "id": "1fe47aef-ae39-49ca-80fa-dacb1070edf1",
   "metadata": {},
   "outputs": [
    {
     "name": "stdin",
     "output_type": "stream",
     "text": [
      "Enter the range :  20\n"
     ]
    },
    {
     "name": "stdout",
     "output_type": "stream",
     "text": [
      "2\n",
      "3\n",
      "5\n",
      "7\n",
      "11\n",
      "13\n",
      "17\n",
      "19\n"
     ]
    }
   ],
   "source": [
    "num = int(input('Enter the range : '))\n",
    "for i in range (2, num):\n",
    "    for x in range (2, i):\n",
    "        if (i%x == 0):\n",
    "            break\n",
    "    else:\n",
    "        print(i)"
   ]
  },
  {
   "cell_type": "code",
   "execution_count": 1,
   "id": "6d2c286b-1e56-409c-9d12-bb424cf189bd",
   "metadata": {},
   "outputs": [],
   "source": [
    "def prime_num():\n",
    "    primes = []\n",
    "    num = 2\n",
    "    while num < 1000:\n",
    "        is_prime = True\n",
    "        for prime in primes:\n",
    "            if num%prime == 0:\n",
    "                is_prime = False\n",
    "                break\n",
    "            if is_prime:\n",
    "                primes.append(num)\n",
    "                yield num\n",
    "            num += 1"
   ]
  },
  {
   "cell_type": "code",
   "execution_count": 2,
   "id": "a9203f3c-86a5-468b-944a-1d16e49691ed",
   "metadata": {},
   "outputs": [],
   "source": [
    "prime_n = prime_num()"
   ]
  },
  {
   "cell_type": "code",
   "execution_count": 1,
   "id": "ac791422-8869-4734-815a-756135ad584f",
   "metadata": {},
   "outputs": [
    {
     "ename": "NameError",
     "evalue": "name 'prime_n' is not defined",
     "output_type": "error",
     "traceback": [
      "\u001b[0;31m---------------------------------------------------------------------------\u001b[0m",
      "\u001b[0;31mNameError\u001b[0m                                 Traceback (most recent call last)",
      "Cell \u001b[0;32mIn[1], line 2\u001b[0m\n\u001b[1;32m      1\u001b[0m \u001b[38;5;28;01mfor\u001b[39;00m i \u001b[38;5;129;01min\u001b[39;00m \u001b[38;5;28mrange\u001b[39m(\u001b[38;5;241m20\u001b[39m):\n\u001b[0;32m----> 2\u001b[0m     \u001b[38;5;28mprint\u001b[39m(\u001b[38;5;28mnext\u001b[39m(\u001b[43mprime_n\u001b[49m))\n",
      "\u001b[0;31mNameError\u001b[0m: name 'prime_n' is not defined"
     ]
    }
   ],
   "source": [
    "for i in range(20):\n",
    "    print(next(prime_n))"
   ]
  },
  {
   "cell_type": "code",
   "execution_count": 3,
   "id": "c85aad27-ee81-44c4-9171-101d411ef979",
   "metadata": {},
   "outputs": [],
   "source": [
    "def primes(n):\n",
    "    for i in range(2,n):\n",
    "        for j in range(2, int(i/2)+1):\n",
    "            if i%j == 0:\n",
    "                break\n",
    "            else:\n",
    "                yield i                    "
   ]
  },
  {
   "cell_type": "code",
   "execution_count": 4,
   "id": "e5f61e9e-b7d1-4eea-b89b-437396ab4cac",
   "metadata": {},
   "outputs": [],
   "source": [
    "p = primes(1000)"
   ]
  },
  {
   "cell_type": "code",
   "execution_count": null,
   "id": "c6a54a2a-5196-4610-b3ea-2401d316f5cb",
   "metadata": {},
   "outputs": [],
   "source": [
    "for i in range(20):\n",
    "    print(next(p))"
   ]
  },
  {
   "cell_type": "markdown",
   "id": "94062daf-f62f-4417-81bf-134d16800eae",
   "metadata": {},
   "source": [
    "Q6 - Write a python program to print the first 10 Fibonacci numbers using a while loop."
   ]
  },
  {
   "cell_type": "code",
   "execution_count": 3,
   "id": "764b472d-6027-48fb-a8c6-5e1c7ae37eb8",
   "metadata": {},
   "outputs": [
    {
     "name": "stdin",
     "output_type": "stream",
     "text": [
      "Pls Enter Your limit 10\n"
     ]
    },
    {
     "name": "stdout",
     "output_type": "stream",
     "text": [
      "0\n",
      "1\n",
      "1\n",
      "2\n",
      "3\n",
      "5\n",
      "8\n",
      "13\n",
      "21\n",
      "34\n"
     ]
    }
   ],
   "source": [
    "me = int(input('Pls Enter Your limit'))\n",
    "a = 0\n",
    "b = 1\n",
    "d = 0\n",
    "while d < me:\n",
    "    print(a)\n",
    "    c = a + b\n",
    "    a = b \n",
    "    b = c\n",
    "    d = d + 1\n",
    "               "
   ]
  },
  {
   "cell_type": "markdown",
   "id": "ed1d9367-c467-4507-b910-5ce38e3b2520",
   "metadata": {},
   "source": [
    "Q7 - Write a List Comprehension to iterate through the given string string 'pwskills'."
   ]
  },
  {
   "cell_type": "code",
   "execution_count": 4,
   "id": "9db8e539-495d-47aa-a6ea-f48113d5c1cd",
   "metadata": {},
   "outputs": [],
   "source": [
    "l = 'pwskills'"
   ]
  },
  {
   "cell_type": "code",
   "execution_count": 7,
   "id": "79ab31f5-138d-4f30-a8ec-7ed7adf4de5c",
   "metadata": {},
   "outputs": [
    {
     "data": {
      "text/plain": [
       "['P', 'W', 'S', 'K', 'I', 'L', 'L', 'S']"
      ]
     },
     "execution_count": 7,
     "metadata": {},
     "output_type": "execute_result"
    }
   ],
   "source": [
    "[i.upper() for i in l]  # -> for upper case "
   ]
  },
  {
   "cell_type": "code",
   "execution_count": 8,
   "id": "a13331d5-738a-4c9c-8e2b-fdb66abcaaac",
   "metadata": {},
   "outputs": [
    {
     "data": {
      "text/plain": [
       "['p', 'w', 's', 'k', 'i', 'l', 'l', 's']"
      ]
     },
     "execution_count": 8,
     "metadata": {},
     "output_type": "execute_result"
    }
   ],
   "source": [
    "[i.lower() for i in l] # -> for lower case "
   ]
  },
  {
   "cell_type": "markdown",
   "id": "0d7bfb8e-0278-4d34-bb1c-f0a291fe34e6",
   "metadata": {},
   "source": [
    "Q8 - Write a python program to check whether a given number is palindrome or not using a while loop"
   ]
  },
  {
   "cell_type": "code",
   "execution_count": 17,
   "id": "bca220f4-9ede-4f9e-8537-08df5d01c034",
   "metadata": {},
   "outputs": [],
   "source": [
    "# By using a while loop"
   ]
  },
  {
   "cell_type": "code",
   "execution_count": 12,
   "id": "2240a2d2-075c-40c6-bfb7-7e1a0a7e865f",
   "metadata": {},
   "outputs": [
    {
     "name": "stdin",
     "output_type": "stream",
     "text": [
      "Enter a number 5\n"
     ]
    },
    {
     "name": "stdout",
     "output_type": "stream",
     "text": [
      "The number is a palindrome\n"
     ]
    }
   ],
   "source": [
    "n = int(input('Enter a number'))\n",
    "temp = n\n",
    "rev = 0\n",
    "while(n>0):\n",
    "    dig = n%10\n",
    "    rev = rev*10 + dig\n",
    "    n = n // 10\n",
    "    if (temp == rev):\n",
    "        print('The number is a palindrome')\n",
    "    else:\n",
    "        print('The number is not palindrome')"
   ]
  },
  {
   "cell_type": "code",
   "execution_count": 18,
   "id": "36e0ad3c-8d99-40c0-9517-72e62fa6d341",
   "metadata": {},
   "outputs": [],
   "source": [
    "# by not using a while loop"
   ]
  },
  {
   "cell_type": "code",
   "execution_count": 15,
   "id": "b5355cb0-3ae4-46be-86f9-c8d47e99f122",
   "metadata": {},
   "outputs": [
    {
     "name": "stdin",
     "output_type": "stream",
     "text": [
      "Enter your number 1001\n"
     ]
    },
    {
     "name": "stdout",
     "output_type": "stream",
     "text": [
      "Palindrome\n"
     ]
    }
   ],
   "source": [
    "num = int(input('Enter your number'))\n",
    "reverse = int(str(num)[::-1])\n",
    "\n",
    "if num == reverse:\n",
    "    print('Palindrome')\n",
    "else :\n",
    "    print('Not Palindrome')"
   ]
  },
  {
   "cell_type": "code",
   "execution_count": null,
   "id": "4cf94147-af63-44ee-b23d-9f05f9fa3100",
   "metadata": {},
   "outputs": [],
   "source": []
  },
  {
   "cell_type": "markdown",
   "id": "75bf4933-3533-4880-92f6-d8291d31805a",
   "metadata": {},
   "source": [
    "Q9 - write a code to print odd numbers from 1 to 100 using list comprehension"
   ]
  },
  {
   "cell_type": "code",
   "execution_count": 22,
   "id": "1c88bbdc-02ee-4578-a4b0-461ffdfa82d8",
   "metadata": {},
   "outputs": [],
   "source": [
    "l = [i for i in range(1,101)]"
   ]
  },
  {
   "cell_type": "code",
   "execution_count": 23,
   "id": "a3d1f030-1e97-486e-8170-3c02af70c151",
   "metadata": {},
   "outputs": [
    {
     "data": {
      "text/plain": [
       "[1,\n",
       " 2,\n",
       " 3,\n",
       " 4,\n",
       " 5,\n",
       " 6,\n",
       " 7,\n",
       " 8,\n",
       " 9,\n",
       " 10,\n",
       " 11,\n",
       " 12,\n",
       " 13,\n",
       " 14,\n",
       " 15,\n",
       " 16,\n",
       " 17,\n",
       " 18,\n",
       " 19,\n",
       " 20,\n",
       " 21,\n",
       " 22,\n",
       " 23,\n",
       " 24,\n",
       " 25,\n",
       " 26,\n",
       " 27,\n",
       " 28,\n",
       " 29,\n",
       " 30,\n",
       " 31,\n",
       " 32,\n",
       " 33,\n",
       " 34,\n",
       " 35,\n",
       " 36,\n",
       " 37,\n",
       " 38,\n",
       " 39,\n",
       " 40,\n",
       " 41,\n",
       " 42,\n",
       " 43,\n",
       " 44,\n",
       " 45,\n",
       " 46,\n",
       " 47,\n",
       " 48,\n",
       " 49,\n",
       " 50,\n",
       " 51,\n",
       " 52,\n",
       " 53,\n",
       " 54,\n",
       " 55,\n",
       " 56,\n",
       " 57,\n",
       " 58,\n",
       " 59,\n",
       " 60,\n",
       " 61,\n",
       " 62,\n",
       " 63,\n",
       " 64,\n",
       " 65,\n",
       " 66,\n",
       " 67,\n",
       " 68,\n",
       " 69,\n",
       " 70,\n",
       " 71,\n",
       " 72,\n",
       " 73,\n",
       " 74,\n",
       " 75,\n",
       " 76,\n",
       " 77,\n",
       " 78,\n",
       " 79,\n",
       " 80,\n",
       " 81,\n",
       " 82,\n",
       " 83,\n",
       " 84,\n",
       " 85,\n",
       " 86,\n",
       " 87,\n",
       " 88,\n",
       " 89,\n",
       " 90,\n",
       " 91,\n",
       " 92,\n",
       " 93,\n",
       " 94,\n",
       " 95,\n",
       " 96,\n",
       " 97,\n",
       " 98,\n",
       " 99,\n",
       " 100]"
      ]
     },
     "execution_count": 23,
     "metadata": {},
     "output_type": "execute_result"
    }
   ],
   "source": [
    "l"
   ]
  },
  {
   "cell_type": "code",
   "execution_count": 29,
   "id": "38a13ae4-25ac-43eb-8f1c-34cdfb1d5859",
   "metadata": {},
   "outputs": [
    {
     "data": {
      "text/plain": [
       "[1,\n",
       " 3,\n",
       " 5,\n",
       " 7,\n",
       " 9,\n",
       " 11,\n",
       " 13,\n",
       " 15,\n",
       " 17,\n",
       " 19,\n",
       " 21,\n",
       " 23,\n",
       " 25,\n",
       " 27,\n",
       " 29,\n",
       " 31,\n",
       " 33,\n",
       " 35,\n",
       " 37,\n",
       " 39,\n",
       " 41,\n",
       " 43,\n",
       " 45,\n",
       " 47,\n",
       " 49,\n",
       " 51,\n",
       " 53,\n",
       " 55,\n",
       " 57,\n",
       " 59,\n",
       " 61,\n",
       " 63,\n",
       " 65,\n",
       " 67,\n",
       " 69,\n",
       " 71,\n",
       " 73,\n",
       " 75,\n",
       " 77,\n",
       " 79,\n",
       " 81,\n",
       " 83,\n",
       " 85,\n",
       " 87,\n",
       " 89,\n",
       " 91,\n",
       " 93,\n",
       " 95,\n",
       " 97,\n",
       " 99]"
      ]
     },
     "execution_count": 29,
     "metadata": {},
     "output_type": "execute_result"
    }
   ],
   "source": [
    "[i for i in l if i%2 != 0]"
   ]
  },
  {
   "cell_type": "code",
   "execution_count": null,
   "id": "4e72bdcf-480a-4146-b5b9-2a3833ca79ac",
   "metadata": {},
   "outputs": [],
   "source": []
  },
  {
   "cell_type": "code",
   "execution_count": null,
   "id": "f6a3d71b-1747-42bf-b159-097f84c4f6b1",
   "metadata": {},
   "outputs": [],
   "source": []
  },
  {
   "cell_type": "code",
   "execution_count": 3,
   "id": "bc48558e-1486-45d8-9add-bc54f022b3e1",
   "metadata": {},
   "outputs": [],
   "source": [
    "def prime_num():\n",
    "    primes = []\n",
    "    num = 2\n",
    "    while num < 1000:\n",
    "        is_prime = True\n",
    "        for prime in primes:\n",
    "            if num%prime == 0:\n",
    "                is_prime = False\n",
    "                break\n",
    "            if is_prime:\n",
    "                primes.append(num)\n",
    "                yield num\n",
    "            num += 1"
   ]
  },
  {
   "cell_type": "code",
   "execution_count": 4,
   "id": "83472cf3-d556-488a-8ae1-2fc77571af4b",
   "metadata": {},
   "outputs": [],
   "source": [
    "prime_n = prime_num()"
   ]
  },
  {
   "cell_type": "code",
   "execution_count": null,
   "id": "ee6511cb-6bf6-4535-9fd4-4455ecebcd40",
   "metadata": {},
   "outputs": [],
   "source": [
    "for i in range(20):\n",
    "    print(next(prime_n))"
   ]
  },
  {
   "cell_type": "code",
   "execution_count": null,
   "id": "780ebc18-fc10-4241-a9d6-6e49b6c3eb7d",
   "metadata": {},
   "outputs": [],
   "source": []
  },
  {
   "cell_type": "code",
   "execution_count": null,
   "id": "6787c699-4fe1-4f28-8b2b-6388ab63c812",
   "metadata": {},
   "outputs": [],
   "source": []
  }
 ],
 "metadata": {
  "kernelspec": {
   "display_name": "Python 3 (ipykernel)",
   "language": "python",
   "name": "python3"
  },
  "language_info": {
   "codemirror_mode": {
    "name": "ipython",
    "version": 3
   },
   "file_extension": ".py",
   "mimetype": "text/x-python",
   "name": "python",
   "nbconvert_exporter": "python",
   "pygments_lexer": "ipython3",
   "version": "3.10.8"
  }
 },
 "nbformat": 4,
 "nbformat_minor": 5
}
